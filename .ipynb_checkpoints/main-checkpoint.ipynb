{
 "cells": [
  {
   "cell_type": "code",
   "execution_count": 1,
   "id": "172d5f47-a80d-41b1-a24c-20639dad0be5",
   "metadata": {},
   "outputs": [
    {
     "name": "stdout",
     "output_type": "stream",
     "text": [
      "Warning: Looks like you're using an outdated `kagglehub` version, please consider updating (latest version: 0.3.5)\n",
      "Downloading from https://www.kaggle.com/api/v1/datasets/download/ananthu017/emotion-detection-fer?dataset_version_number=1...\n"
     ]
    },
    {
     "name": "stderr",
     "output_type": "stream",
     "text": [
      "100%|██████████| 65.2M/65.2M [03:02<00:00, 374kB/s]"
     ]
    },
    {
     "name": "stdout",
     "output_type": "stream",
     "text": [
      "Extracting files...\n"
     ]
    },
    {
     "name": "stderr",
     "output_type": "stream",
     "text": [
      "\n"
     ]
    },
    {
     "name": "stdout",
     "output_type": "stream",
     "text": [
      "Path to dataset files: C:\\Users\\BineshMahato\\.cache\\kagglehub\\datasets\\ananthu017\\emotion-detection-fer\\versions\\1\n"
     ]
    }
   ],
   "source": [
    "import kagglehub\n",
    "\n",
    "# Download latest version\n",
    "path = kagglehub.dataset_download(\"ananthu017/emotion-detection-fer\")\n",
    "\n",
    "print(\"Path to dataset files:\", path)"
   ]
  },
  {
   "cell_type": "code",
   "execution_count": null,
   "id": "65e2748a-cfaa-4347-8ef2-f9cf889989be",
   "metadata": {},
   "outputs": [],
   "source": [
    "import cv2\n",
    "import numpy as np\n",
    "from keras.utils import to_categorical\n",
    "from sklearn.model_selection import train_test_split\n",
    "\n",
    "# Load the FER-2013 dataset (replace with your dataset loading code)\n",
    "# Assuming data is a list of images (faces) and labels (emotions)\n",
    "\n",
    "# Preprocess each image\n",
    "def preprocess_images(data):\n",
    "    processed_data = []\n",
    "    for image in data:\n",
    "        image = cv2.cvtColor(image, cv2.COLOR_BGR2GRAY)  # Convert to grayscale\n",
    "        image = cv2.resize(image, (48, 48))  # Resize to 48x48 pixels\n",
    "        image = image / 255.0  # Normalize\n",
    "        processed_data.append(image)\n",
    "    return np.array(processed_data)\n",
    "\n",
    "# Preprocessing labels\n",
    "def preprocess_labels(labels):\n",
    "    return to_categorical(labels, num_classes=7)  # Adjust num_classes as needed\n",
    "\n",
    "# Example: Process data and labels\n",
    "X = preprocess_images(data)  # data is your list of facial images\n",
    "y = preprocess_labels(labels)  # labels is your list of emotion labels\n",
    "\n",
    "# Split data into training and testing sets\n",
    "X_train, X_test, y_train, y_test = train_test_split(X, y, test_size=0.2, random_state=42)\n"
   ]
  },
  {
   "cell_type": "code",
   "execution_count": null,
   "id": "0ba7d8d0-1386-40fc-8b4d-1410a9d818e1",
   "metadata": {},
   "outputs": [],
   "source": []
  }
 ],
 "metadata": {
  "kernelspec": {
   "display_name": "Python (tf_env)",
   "language": "python",
   "name": "tf_env"
  },
  "language_info": {
   "codemirror_mode": {
    "name": "ipython",
    "version": 3
   },
   "file_extension": ".py",
   "mimetype": "text/x-python",
   "name": "python",
   "nbconvert_exporter": "python",
   "pygments_lexer": "ipython3",
   "version": "3.9.18"
  }
 },
 "nbformat": 4,
 "nbformat_minor": 5
}
